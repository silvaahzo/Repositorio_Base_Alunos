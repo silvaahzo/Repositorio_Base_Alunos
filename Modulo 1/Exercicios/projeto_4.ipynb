{
 "cells": [
  {
   "cell_type": "markdown",
   "id": "f7e6eb37",
   "metadata": {},
   "source": [
    "# 🕵️‍♂️ MISSÃO SINARM: ANÁLISE DE INTELIGÊNCIA\n",
    "## 📋 CONTEXTO DA OPERAÇÃO\n",
    "\n",
    "Caros Aspirantes a Analistas de Dados Forenses,\n",
    "\n",
    "Vocês foram recrutados para uma operação especial da Polícia Federal! Como estagiários do setor de inteligência, sua missão é analisar dados reais de ocorrências envolvendo armas de fogo.\n",
    "\n",
    "### Um arquivo confidencial contendo dados de 2025 acaba de chegar em suas mãos: OCORRENCIAS_2025.csv\n",
    "---\n",
    "## 🎯 OBJETIVO DA MISSÃO\n",
    "\n",
    "Sua tarefa é desenvolver um algoritmo em Python que:\n",
    "\n",
    "    Identifique os tipos de armas (espécies) envolvidas nas ocorrências\n",
    "\n",
    "    Classifique as armas em categorias específicas (calibres)\n",
    "\n",
    "    Conte quantas armas de cada tipo foram apreendidas\n",
    "\n",
    "## 🔍 DADOS DA OPERAÇÃO\n",
    "\n",
    "O arquivo CSV contém as seguintes colunas relevantes:\n",
    "\n",
    "    ESPECIE_ARMA (descrição do tipo de arma)\n",
    "\n",
    "    CALIBRE_ARMA (calibre da arma)\n",
    "\n",
    "    MARCA_ARMA (fabricante da arma)"
   ]
  },
  {
   "cell_type": "code",
   "execution_count": null,
   "id": "e3270dd8",
   "metadata": {},
   "outputs": [],
   "source": [
    "# Seu código aqui:"
   ]
  }
 ],
 "metadata": {
  "language_info": {
   "name": "python"
  }
 },
 "nbformat": 4,
 "nbformat_minor": 5
}
